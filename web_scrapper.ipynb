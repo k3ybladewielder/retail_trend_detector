{
 "cells": [
  {
   "cell_type": "markdown",
   "id": "d32c346a",
   "metadata": {
    "ExecuteTime": {
     "end_time": "2023-01-07T11:57:00.835489Z",
     "start_time": "2023-01-07T11:57:00.832841Z"
    }
   },
   "source": [
    "# Trending detector - Web Scrapper"
   ]
  },
  {
   "cell_type": "code",
   "execution_count": 1,
   "id": "53333c06",
   "metadata": {
    "ExecuteTime": {
     "end_time": "2023-02-06T18:28:51.047072Z",
     "start_time": "2023-02-06T18:28:50.359162Z"
    }
   },
   "outputs": [],
   "source": [
    "import requests\n",
    "from bs4 import BeautifulSoup as bs\n",
    "import pandas as pd\n",
    "import re\n",
    "\n",
    "from tqdm import tqdm\n",
    "\n",
    "import warnings\n",
    "warnings.filterwarnings(\"ignore\")"
   ]
  },
  {
   "cell_type": "markdown",
   "id": "96fe0bb8",
   "metadata": {},
   "source": [
    "## multi page web scrapping"
   ]
  },
  {
   "cell_type": "markdown",
   "id": "ce32db7c",
   "metadata": {},
   "source": [
    "### Coletando atributos"
   ]
  },
  {
   "cell_type": "code",
   "execution_count": 2,
   "id": "423e0280",
   "metadata": {
    "ExecuteTime": {
     "end_time": "2023-02-06T18:28:51.051329Z",
     "start_time": "2023-02-06T18:28:51.048585Z"
    }
   },
   "outputs": [],
   "source": [
    "import requests\n",
    "from bs4 import BeautifulSoup as bs\n",
    "\n",
    "first = 1\n",
    "last_page = 150\n",
    "\n",
    "URL = 'https://mercadoeconsumo.com.br/category/noticias/page/'"
   ]
  },
  {
   "cell_type": "code",
   "execution_count": 3,
   "id": "8a3e3b89",
   "metadata": {
    "ExecuteTime": {
     "end_time": "2023-02-06T18:44:58.137581Z",
     "start_time": "2023-02-06T18:28:51.052905Z"
    }
   },
   "outputs": [
    {
     "name": "stderr",
     "output_type": "stream",
     "text": [
      "100%|█████████████████████████████████████████| 149/149 [16:07<00:00,  6.49s/it]"
     ]
    },
    {
     "name": "stdout",
     "output_type": "stream",
     "text": [
      "CPU times: user 18.9 s, sys: 301 ms, total: 19.3 s\n",
      "Wall time: 16min 7s\n"
     ]
    },
    {
     "name": "stderr",
     "output_type": "stream",
     "text": [
      "\n"
     ]
    }
   ],
   "source": [
    "%%time\n",
    "\n",
    "df = pd.DataFrame()\n",
    "noticias = []\n",
    "\n",
    "for page in tqdm(range(first, last_page)):\n",
    "    req = requests.get(URL + str(page) + '/')\n",
    "    soup = bs(req.text, 'html.parser')\n",
    "\n",
    "    # Percorrendo todos os elementos com a classe \"jeg_post_title\"\n",
    "    for titulo in soup.find_all(\"h3\", class_=\"jeg_post_title\"):\n",
    "\n",
    "        # coletando o texto do título\n",
    "        titulo_texto = titulo.get_text()\n",
    "        titulo_texto = re.sub(r'\\n', '', titulo_texto)\n",
    "\n",
    "        # coletando o link do título\n",
    "        link = titulo.find(\"a\")[\"href\"]\n",
    "\n",
    "        # adicionando as informações na lista\n",
    "        noticias.append({\"titulo\": titulo_texto, \"link\": link})\n",
    "\n",
    "        df = pd.DataFrame(noticias)\n",
    "        df = df.drop_duplicates('titulo').reset_index(drop=True)\n",
    "\n",
    "# import math\n",
    "\n",
    "# batch_size = 100 # Define o tamanho do batch\n",
    "# batches = range(math.ceil(last_page/batch_size)) # Cria uma lista com o número de batches\n",
    "\n",
    "# df = pd.DataFrame()\n",
    "# noticias = []\n",
    "\n",
    "# for batch in tqdm(batches):\n",
    "#     batch_start = batch * batch_size + first\n",
    "#     batch_end = min((batch + 1) * batch_size + first, last_page)\n",
    "\n",
    "#     for page in range(batch_start, batch_end):\n",
    "#         req = requests.get(URL + str(page) + '/')\n",
    "#         soup = bs(req.text, 'html.parser')\n",
    "\n",
    "#         # Percorrendo todos os elementos com a classe \"jeg_post_title\"\n",
    "#         for titulo in soup.find_all(\"h3\", class_=\"jeg_post_title\"):\n",
    "        \n",
    "#             # coletando o texto do título\n",
    "#             titulo_texto = titulo.get_text()\n",
    "#             titulo_texto = re.sub(r'\\n', '', titulo_texto)\n",
    "\n",
    "#             # coletando o link do título\n",
    "#             link = titulo.find(\"a\")[\"href\"]\n",
    "\n",
    "#             # adicionando as informações na lista\n",
    "#             noticias.append({\"titulo\": titulo_texto, \"link\": link})\n",
    "\n",
    "#     df = pd.DataFrame(noticias)\n",
    "#     df = df.drop_duplicates('titulo').reset_index(drop=True)\n",
    "#     noticias = [] # Limpa a lista de notícias após cada iteração de batch\n"
   ]
  },
  {
   "cell_type": "code",
   "execution_count": 4,
   "id": "41d656fa",
   "metadata": {
    "ExecuteTime": {
     "end_time": "2023-02-06T18:44:58.151520Z",
     "start_time": "2023-02-06T18:44:58.138760Z"
    }
   },
   "outputs": [
    {
     "data": {
      "text/html": [
       "<div>\n",
       "<style scoped>\n",
       "    .dataframe tbody tr th:only-of-type {\n",
       "        vertical-align: middle;\n",
       "    }\n",
       "\n",
       "    .dataframe tbody tr th {\n",
       "        vertical-align: top;\n",
       "    }\n",
       "\n",
       "    .dataframe thead th {\n",
       "        text-align: right;\n",
       "    }\n",
       "</style>\n",
       "<table border=\"1\" class=\"dataframe\">\n",
       "  <thead>\n",
       "    <tr style=\"text-align: right;\">\n",
       "      <th></th>\n",
       "      <th>titulo</th>\n",
       "      <th>link</th>\n",
       "    </tr>\n",
       "  </thead>\n",
       "  <tbody>\n",
       "    <tr>\n",
       "      <th>0</th>\n",
       "      <td>Mercado financeiro eleva projeção da inflação ...</td>\n",
       "      <td>https://mercadoeconsumo.com.br/06/02/2023/econ...</td>\n",
       "    </tr>\n",
       "    <tr>\n",
       "      <th>1</th>\n",
       "      <td>Mercado Livre prepara estreia no BBB e mira no...</td>\n",
       "      <td>https://mercadoeconsumo.com.br/06/02/2023/noti...</td>\n",
       "    </tr>\n",
       "    <tr>\n",
       "      <th>2</th>\n",
       "      <td>Lula avalia elevar isenção do IR a dois mínimo...</td>\n",
       "      <td>https://mercadoeconsumo.com.br/06/02/2023/econ...</td>\n",
       "    </tr>\n",
       "    <tr>\n",
       "      <th>3</th>\n",
       "      <td>PepsiCo segue rumo autonomia hídrica com 100 d...</td>\n",
       "      <td>https://mercadoeconsumo.com.br/06/02/2023/inov...</td>\n",
       "    </tr>\n",
       "    <tr>\n",
       "      <th>4</th>\n",
       "      <td>Fintechs e Energytechs são as startups que mai...</td>\n",
       "      <td>https://mercadoeconsumo.com.br/06/02/2023/noti...</td>\n",
       "    </tr>\n",
       "    <tr>\n",
       "      <th>...</th>\n",
       "      <td>...</td>\n",
       "      <td>...</td>\n",
       "    </tr>\n",
       "    <tr>\n",
       "      <th>1487</th>\n",
       "      <td>Bassar Pet Food tem desafio à frente após mort...</td>\n",
       "      <td>https://mercadoeconsumo.com.br/18/09/2022/econ...</td>\n",
       "    </tr>\n",
       "    <tr>\n",
       "      <th>1488</th>\n",
       "      <td>Remédios do Farmácia Popular cortados por Bols...</td>\n",
       "      <td>https://mercadoeconsumo.com.br/17/09/2022/econ...</td>\n",
       "    </tr>\n",
       "    <tr>\n",
       "      <th>1489</th>\n",
       "      <td>Natura lidera baixas da B3 após confirmar uniã...</td>\n",
       "      <td>https://mercadoeconsumo.com.br/17/09/2022/econ...</td>\n",
       "    </tr>\n",
       "    <tr>\n",
       "      <th>1490</th>\n",
       "      <td>Consumidor pós-pandemia espera experiências al...</td>\n",
       "      <td>https://mercadoeconsumo.com.br/17/09/2022/econ...</td>\n",
       "    </tr>\n",
       "    <tr>\n",
       "      <th>1491</th>\n",
       "      <td>Gilberto Lima é o novo diretor-geral da ID Log...</td>\n",
       "      <td>https://mercadoeconsumo.com.br/17/09/2022/gest...</td>\n",
       "    </tr>\n",
       "  </tbody>\n",
       "</table>\n",
       "<p>1492 rows × 2 columns</p>\n",
       "</div>"
      ],
      "text/plain": [
       "                                                 titulo  \\\n",
       "0     Mercado financeiro eleva projeção da inflação ...   \n",
       "1     Mercado Livre prepara estreia no BBB e mira no...   \n",
       "2     Lula avalia elevar isenção do IR a dois mínimo...   \n",
       "3     PepsiCo segue rumo autonomia hídrica com 100 d...   \n",
       "4     Fintechs e Energytechs são as startups que mai...   \n",
       "...                                                 ...   \n",
       "1487  Bassar Pet Food tem desafio à frente após mort...   \n",
       "1488  Remédios do Farmácia Popular cortados por Bols...   \n",
       "1489  Natura lidera baixas da B3 após confirmar uniã...   \n",
       "1490  Consumidor pós-pandemia espera experiências al...   \n",
       "1491  Gilberto Lima é o novo diretor-geral da ID Log...   \n",
       "\n",
       "                                                   link  \n",
       "0     https://mercadoeconsumo.com.br/06/02/2023/econ...  \n",
       "1     https://mercadoeconsumo.com.br/06/02/2023/noti...  \n",
       "2     https://mercadoeconsumo.com.br/06/02/2023/econ...  \n",
       "3     https://mercadoeconsumo.com.br/06/02/2023/inov...  \n",
       "4     https://mercadoeconsumo.com.br/06/02/2023/noti...  \n",
       "...                                                 ...  \n",
       "1487  https://mercadoeconsumo.com.br/18/09/2022/econ...  \n",
       "1488  https://mercadoeconsumo.com.br/17/09/2022/econ...  \n",
       "1489  https://mercadoeconsumo.com.br/17/09/2022/econ...  \n",
       "1490  https://mercadoeconsumo.com.br/17/09/2022/econ...  \n",
       "1491  https://mercadoeconsumo.com.br/17/09/2022/gest...  \n",
       "\n",
       "[1492 rows x 2 columns]"
      ]
     },
     "execution_count": 4,
     "metadata": {},
     "output_type": "execute_result"
    }
   ],
   "source": [
    "df"
   ]
  },
  {
   "cell_type": "code",
   "execution_count": null,
   "id": "1b14d100",
   "metadata": {},
   "outputs": [],
   "source": [
    "df_pt1"
   ]
  },
  {
   "cell_type": "markdown",
   "id": "b7291a19",
   "metadata": {},
   "source": [
    "### Coletando notícia de cada link"
   ]
  },
  {
   "cell_type": "code",
   "execution_count": 5,
   "id": "4f2813ee",
   "metadata": {
    "ExecuteTime": {
     "end_time": "2023-02-06T21:26:41.240089Z",
     "start_time": "2023-02-06T18:44:58.152727Z"
    }
   },
   "outputs": [
    {
     "name": "stderr",
     "output_type": "stream",
     "text": [
      "100%|█████████████████████████████████████████| 8/8 [2:41:43<00:00, 1212.89s/it]"
     ]
    },
    {
     "name": "stdout",
     "output_type": "stream",
     "text": [
      "CPU times: user 2min 34s, sys: 1.74 s, total: 2min 35s\n",
      "Wall time: 2h 41min 43s\n"
     ]
    },
    {
     "name": "stderr",
     "output_type": "stream",
     "text": [
      "\n"
     ]
    }
   ],
   "source": [
    "%%time\n",
    "# conteudo_pag = pd.DataFrame()\n",
    "\n",
    "# for link in tqdm(df['link']):\n",
    "#     URL = link\n",
    "#     req = requests.get(URL)\n",
    "#     soup = bs(req.text, 'html.parser')\n",
    "\n",
    "#     # coletando data do link\n",
    "#     data = soup.find('div', class_= 'jeg_meta_date')\n",
    "#     data = data.get_text()\n",
    "#     data = re.sub(r'\\n', '', data)\n",
    "    \n",
    "#     #lista_data.append({'data': data})\n",
    "\n",
    "#     # coletando conteudo do link\n",
    "#     conteudo = soup.find('div', class_='content-inner')\n",
    "#     conteudo = conteudo.get_text()\n",
    "#     conteudo = re.sub(r'\\n', '', conteudo)\n",
    "#     conteudo = re.sub(r'Compartilhe isso:FacebookLinkedInTwitterWhatsAppTelegramPinterestMaisImprimirCurtir isso:Curtir Carregando...', '', conteudo)\n",
    "\n",
    "#     #conteudo_pag.append({\"data\": data, \"conteudo\": conteudo})\n",
    "#     conteudo_pag = conteudo_pag.append({'data': data, 'conteudo': conteudo}, ignore_index=True)\n",
    "\n",
    "import math\n",
    "\n",
    "batch_size = 200 # Define o tamanho do batch\n",
    "batches = range(math.ceil(len(df['link'])/batch_size)) # Cria uma lista com o número de batches\n",
    "# batches\n",
    "\n",
    "conteudo_pag = pd.DataFrame()\n",
    "\n",
    "for batch in tqdm(batches):\n",
    "    batch_start = batch * batch_size\n",
    "    batch_end = min((batch + 1) * batch_size, len(df['link']))\n",
    "\n",
    "    for link in df['link'][batch_start:batch_end]:\n",
    "        URL = link\n",
    "        req = requests.get(URL)\n",
    "        soup = bs(req.text, 'html.parser')\n",
    "\n",
    "        # coletando data do link\n",
    "        data = soup.find('div', class_= 'jeg_meta_date')\n",
    "        data = data.get_text()\n",
    "        data = re.sub(r'\\n', '', data)\n",
    "\n",
    "        # coletando conteudo do link\n",
    "        conteudo = soup.find('div', class_='content-inner')\n",
    "        conteudo = conteudo.get_text()\n",
    "        conteudo = re.sub(r'\\n', '', conteudo)\n",
    "        conteudo = re.sub(r'Compartilhe isso:FacebookLinkedInTwitterWhatsAppTelegramPinterestMaisImprimirCurtir isso:Curtir Carregando...', '', conteudo)\n",
    "\n",
    "        conteudo_pag = conteudo_pag.append({'data': data, 'conteudo': conteudo}, ignore_index=True)"
   ]
  },
  {
   "cell_type": "code",
   "execution_count": 6,
   "id": "fb4a5f94",
   "metadata": {
    "ExecuteTime": {
     "end_time": "2023-02-06T21:26:41.246405Z",
     "start_time": "2023-02-06T21:26:41.241379Z"
    }
   },
   "outputs": [
    {
     "data": {
      "text/html": [
       "<div>\n",
       "<style scoped>\n",
       "    .dataframe tbody tr th:only-of-type {\n",
       "        vertical-align: middle;\n",
       "    }\n",
       "\n",
       "    .dataframe tbody tr th {\n",
       "        vertical-align: top;\n",
       "    }\n",
       "\n",
       "    .dataframe thead th {\n",
       "        text-align: right;\n",
       "    }\n",
       "</style>\n",
       "<table border=\"1\" class=\"dataframe\">\n",
       "  <thead>\n",
       "    <tr style=\"text-align: right;\">\n",
       "      <th></th>\n",
       "      <th>data</th>\n",
       "      <th>conteudo</th>\n",
       "    </tr>\n",
       "  </thead>\n",
       "  <tbody>\n",
       "    <tr>\n",
       "      <th>0</th>\n",
       "      <td>6 de fevereiro de 2023</td>\n",
       "      <td>A previsão do mercado financeiro para o Índice...</td>\n",
       "    </tr>\n",
       "    <tr>\n",
       "      <th>1</th>\n",
       "      <td>6 de fevereiro de 2023</td>\n",
       "      <td>Prestes a estrear como patrocinador do Big Bro...</td>\n",
       "    </tr>\n",
       "    <tr>\n",
       "      <th>2</th>\n",
       "      <td>6 de fevereiro de 2023</td>\n",
       "      <td>Depois de prometer na campanha isentar do Impo...</td>\n",
       "    </tr>\n",
       "    <tr>\n",
       "      <th>3</th>\n",
       "      <td>6 de fevereiro de 2023</td>\n",
       "      <td>A PepsiCo, uma das maiores empresas de aliment...</td>\n",
       "    </tr>\n",
       "    <tr>\n",
       "      <th>4</th>\n",
       "      <td>6 de fevereiro de 2023</td>\n",
       "      <td>De acordo com uma pesquisa realizada pela EqSe...</td>\n",
       "    </tr>\n",
       "    <tr>\n",
       "      <th>...</th>\n",
       "      <td>...</td>\n",
       "      <td>...</td>\n",
       "    </tr>\n",
       "    <tr>\n",
       "      <th>1487</th>\n",
       "      <td>18 de setembro de 2022</td>\n",
       "      <td>Da noite para o dia, a Bassar Pet Food se torn...</td>\n",
       "    </tr>\n",
       "    <tr>\n",
       "      <th>1488</th>\n",
       "      <td>17 de setembro de 2022</td>\n",
       "      <td>Os remédios oferecidos de graça pelo programa ...</td>\n",
       "    </tr>\n",
       "    <tr>\n",
       "      <th>1489</th>\n",
       "      <td>17 de setembro de 2022</td>\n",
       "      <td>A Natura &amp; Co. sofreu, ontem, uma forte queda,...</td>\n",
       "    </tr>\n",
       "    <tr>\n",
       "      <th>1490</th>\n",
       "      <td>17 de setembro de 2022</td>\n",
       "      <td>Após as transformações causadas pela pandemia ...</td>\n",
       "    </tr>\n",
       "    <tr>\n",
       "      <th>1491</th>\n",
       "      <td>17 de setembro de 2022</td>\n",
       "      <td>A Mercado&amp;Consumo traz, semanalmente, as princ...</td>\n",
       "    </tr>\n",
       "  </tbody>\n",
       "</table>\n",
       "<p>1492 rows × 2 columns</p>\n",
       "</div>"
      ],
      "text/plain": [
       "                        data  \\\n",
       "0     6 de fevereiro de 2023   \n",
       "1     6 de fevereiro de 2023   \n",
       "2     6 de fevereiro de 2023   \n",
       "3     6 de fevereiro de 2023   \n",
       "4     6 de fevereiro de 2023   \n",
       "...                      ...   \n",
       "1487  18 de setembro de 2022   \n",
       "1488  17 de setembro de 2022   \n",
       "1489  17 de setembro de 2022   \n",
       "1490  17 de setembro de 2022   \n",
       "1491  17 de setembro de 2022   \n",
       "\n",
       "                                               conteudo  \n",
       "0     A previsão do mercado financeiro para o Índice...  \n",
       "1     Prestes a estrear como patrocinador do Big Bro...  \n",
       "2     Depois de prometer na campanha isentar do Impo...  \n",
       "3     A PepsiCo, uma das maiores empresas de aliment...  \n",
       "4     De acordo com uma pesquisa realizada pela EqSe...  \n",
       "...                                                 ...  \n",
       "1487  Da noite para o dia, a Bassar Pet Food se torn...  \n",
       "1488  Os remédios oferecidos de graça pelo programa ...  \n",
       "1489  A Natura & Co. sofreu, ontem, uma forte queda,...  \n",
       "1490  Após as transformações causadas pela pandemia ...  \n",
       "1491  A Mercado&Consumo traz, semanalmente, as princ...  \n",
       "\n",
       "[1492 rows x 2 columns]"
      ]
     },
     "execution_count": 6,
     "metadata": {},
     "output_type": "execute_result"
    }
   ],
   "source": [
    "conteudo_pag"
   ]
  },
  {
   "cell_type": "markdown",
   "id": "6dd2de9d",
   "metadata": {},
   "source": [
    "## Agregando DFs"
   ]
  },
  {
   "cell_type": "code",
   "execution_count": 7,
   "id": "3e55e94b",
   "metadata": {
    "ExecuteTime": {
     "end_time": "2023-02-06T21:26:41.252095Z",
     "start_time": "2023-02-06T21:26:41.247381Z"
    }
   },
   "outputs": [],
   "source": [
    "df = pd.concat([df, conteudo_pag], axis=1)"
   ]
  },
  {
   "cell_type": "code",
   "execution_count": 9,
   "id": "51f7a133",
   "metadata": {
    "ExecuteTime": {
     "end_time": "2023-02-06T21:50:02.236583Z",
     "start_time": "2023-02-06T21:50:02.230359Z"
    }
   },
   "outputs": [
    {
     "data": {
      "text/html": [
       "<div>\n",
       "<style scoped>\n",
       "    .dataframe tbody tr th:only-of-type {\n",
       "        vertical-align: middle;\n",
       "    }\n",
       "\n",
       "    .dataframe tbody tr th {\n",
       "        vertical-align: top;\n",
       "    }\n",
       "\n",
       "    .dataframe thead th {\n",
       "        text-align: right;\n",
       "    }\n",
       "</style>\n",
       "<table border=\"1\" class=\"dataframe\">\n",
       "  <thead>\n",
       "    <tr style=\"text-align: right;\">\n",
       "      <th></th>\n",
       "      <th>titulo</th>\n",
       "      <th>link</th>\n",
       "      <th>data</th>\n",
       "      <th>conteudo</th>\n",
       "    </tr>\n",
       "  </thead>\n",
       "  <tbody>\n",
       "    <tr>\n",
       "      <th>0</th>\n",
       "      <td>Mercado financeiro eleva projeção da inflação ...</td>\n",
       "      <td>https://mercadoeconsumo.com.br/06/02/2023/econ...</td>\n",
       "      <td>6 de fevereiro de 2023</td>\n",
       "      <td>A previsão do mercado financeiro para o Índice...</td>\n",
       "    </tr>\n",
       "    <tr>\n",
       "      <th>1</th>\n",
       "      <td>Mercado Livre prepara estreia no BBB e mira no...</td>\n",
       "      <td>https://mercadoeconsumo.com.br/06/02/2023/noti...</td>\n",
       "      <td>6 de fevereiro de 2023</td>\n",
       "      <td>Prestes a estrear como patrocinador do Big Bro...</td>\n",
       "    </tr>\n",
       "    <tr>\n",
       "      <th>2</th>\n",
       "      <td>Lula avalia elevar isenção do IR a dois mínimo...</td>\n",
       "      <td>https://mercadoeconsumo.com.br/06/02/2023/econ...</td>\n",
       "      <td>6 de fevereiro de 2023</td>\n",
       "      <td>Depois de prometer na campanha isentar do Impo...</td>\n",
       "    </tr>\n",
       "    <tr>\n",
       "      <th>3</th>\n",
       "      <td>PepsiCo segue rumo autonomia hídrica com 100 d...</td>\n",
       "      <td>https://mercadoeconsumo.com.br/06/02/2023/inov...</td>\n",
       "      <td>6 de fevereiro de 2023</td>\n",
       "      <td>A PepsiCo, uma das maiores empresas de aliment...</td>\n",
       "    </tr>\n",
       "    <tr>\n",
       "      <th>4</th>\n",
       "      <td>Fintechs e Energytechs são as startups que mai...</td>\n",
       "      <td>https://mercadoeconsumo.com.br/06/02/2023/noti...</td>\n",
       "      <td>6 de fevereiro de 2023</td>\n",
       "      <td>De acordo com uma pesquisa realizada pela EqSe...</td>\n",
       "    </tr>\n",
       "    <tr>\n",
       "      <th>...</th>\n",
       "      <td>...</td>\n",
       "      <td>...</td>\n",
       "      <td>...</td>\n",
       "      <td>...</td>\n",
       "    </tr>\n",
       "    <tr>\n",
       "      <th>1487</th>\n",
       "      <td>Bassar Pet Food tem desafio à frente após mort...</td>\n",
       "      <td>https://mercadoeconsumo.com.br/18/09/2022/econ...</td>\n",
       "      <td>18 de setembro de 2022</td>\n",
       "      <td>Da noite para o dia, a Bassar Pet Food se torn...</td>\n",
       "    </tr>\n",
       "    <tr>\n",
       "      <th>1488</th>\n",
       "      <td>Remédios do Farmácia Popular cortados por Bols...</td>\n",
       "      <td>https://mercadoeconsumo.com.br/17/09/2022/econ...</td>\n",
       "      <td>17 de setembro de 2022</td>\n",
       "      <td>Os remédios oferecidos de graça pelo programa ...</td>\n",
       "    </tr>\n",
       "    <tr>\n",
       "      <th>1489</th>\n",
       "      <td>Natura lidera baixas da B3 após confirmar uniã...</td>\n",
       "      <td>https://mercadoeconsumo.com.br/17/09/2022/econ...</td>\n",
       "      <td>17 de setembro de 2022</td>\n",
       "      <td>A Natura &amp; Co. sofreu, ontem, uma forte queda,...</td>\n",
       "    </tr>\n",
       "    <tr>\n",
       "      <th>1490</th>\n",
       "      <td>Consumidor pós-pandemia espera experiências al...</td>\n",
       "      <td>https://mercadoeconsumo.com.br/17/09/2022/econ...</td>\n",
       "      <td>17 de setembro de 2022</td>\n",
       "      <td>Após as transformações causadas pela pandemia ...</td>\n",
       "    </tr>\n",
       "    <tr>\n",
       "      <th>1491</th>\n",
       "      <td>Gilberto Lima é o novo diretor-geral da ID Log...</td>\n",
       "      <td>https://mercadoeconsumo.com.br/17/09/2022/gest...</td>\n",
       "      <td>17 de setembro de 2022</td>\n",
       "      <td>A Mercado&amp;Consumo traz, semanalmente, as princ...</td>\n",
       "    </tr>\n",
       "  </tbody>\n",
       "</table>\n",
       "<p>1492 rows × 4 columns</p>\n",
       "</div>"
      ],
      "text/plain": [
       "                                                 titulo  \\\n",
       "0     Mercado financeiro eleva projeção da inflação ...   \n",
       "1     Mercado Livre prepara estreia no BBB e mira no...   \n",
       "2     Lula avalia elevar isenção do IR a dois mínimo...   \n",
       "3     PepsiCo segue rumo autonomia hídrica com 100 d...   \n",
       "4     Fintechs e Energytechs são as startups que mai...   \n",
       "...                                                 ...   \n",
       "1487  Bassar Pet Food tem desafio à frente após mort...   \n",
       "1488  Remédios do Farmácia Popular cortados por Bols...   \n",
       "1489  Natura lidera baixas da B3 após confirmar uniã...   \n",
       "1490  Consumidor pós-pandemia espera experiências al...   \n",
       "1491  Gilberto Lima é o novo diretor-geral da ID Log...   \n",
       "\n",
       "                                                   link  \\\n",
       "0     https://mercadoeconsumo.com.br/06/02/2023/econ...   \n",
       "1     https://mercadoeconsumo.com.br/06/02/2023/noti...   \n",
       "2     https://mercadoeconsumo.com.br/06/02/2023/econ...   \n",
       "3     https://mercadoeconsumo.com.br/06/02/2023/inov...   \n",
       "4     https://mercadoeconsumo.com.br/06/02/2023/noti...   \n",
       "...                                                 ...   \n",
       "1487  https://mercadoeconsumo.com.br/18/09/2022/econ...   \n",
       "1488  https://mercadoeconsumo.com.br/17/09/2022/econ...   \n",
       "1489  https://mercadoeconsumo.com.br/17/09/2022/econ...   \n",
       "1490  https://mercadoeconsumo.com.br/17/09/2022/econ...   \n",
       "1491  https://mercadoeconsumo.com.br/17/09/2022/gest...   \n",
       "\n",
       "                        data  \\\n",
       "0     6 de fevereiro de 2023   \n",
       "1     6 de fevereiro de 2023   \n",
       "2     6 de fevereiro de 2023   \n",
       "3     6 de fevereiro de 2023   \n",
       "4     6 de fevereiro de 2023   \n",
       "...                      ...   \n",
       "1487  18 de setembro de 2022   \n",
       "1488  17 de setembro de 2022   \n",
       "1489  17 de setembro de 2022   \n",
       "1490  17 de setembro de 2022   \n",
       "1491  17 de setembro de 2022   \n",
       "\n",
       "                                               conteudo  \n",
       "0     A previsão do mercado financeiro para o Índice...  \n",
       "1     Prestes a estrear como patrocinador do Big Bro...  \n",
       "2     Depois de prometer na campanha isentar do Impo...  \n",
       "3     A PepsiCo, uma das maiores empresas de aliment...  \n",
       "4     De acordo com uma pesquisa realizada pela EqSe...  \n",
       "...                                                 ...  \n",
       "1487  Da noite para o dia, a Bassar Pet Food se torn...  \n",
       "1488  Os remédios oferecidos de graça pelo programa ...  \n",
       "1489  A Natura & Co. sofreu, ontem, uma forte queda,...  \n",
       "1490  Após as transformações causadas pela pandemia ...  \n",
       "1491  A Mercado&Consumo traz, semanalmente, as princ...  \n",
       "\n",
       "[1492 rows x 4 columns]"
      ]
     },
     "execution_count": 9,
     "metadata": {},
     "output_type": "execute_result"
    }
   ],
   "source": [
    "df"
   ]
  },
  {
   "cell_type": "markdown",
   "id": "9495b14a",
   "metadata": {},
   "source": [
    "## Export"
   ]
  },
  {
   "cell_type": "code",
   "execution_count": 22,
   "id": "7def5df8",
   "metadata": {
    "ExecuteTime": {
     "end_time": "2023-02-06T22:23:34.557848Z",
     "start_time": "2023-02-06T22:23:34.324780Z"
    }
   },
   "outputs": [],
   "source": [
    "# !pip install pyarrow\n",
    "\n",
    "# df.to_csv('./data/df.txt', sep=';', index=False)\n",
    "# df.to_feather('./data/df.feather') # [1]\n",
    "df.to_parquet('./data/df.parquet', engine='pyarrow', compression='gzip', index=False) # [2]\n",
    "\n",
    "# [1] usar caso precise de leitura e armazenamento rápido\n",
    "# [2] para fins de armazenamento, como não será atualizado com frequência, melhor usar parquet"
   ]
  },
  {
   "cell_type": "markdown",
   "id": "66aa9f4f",
   "metadata": {
    "ExecuteTime": {
     "end_time": "2023-01-09T19:12:48.098865Z",
     "start_time": "2023-01-09T19:12:48.096629Z"
    }
   },
   "source": [
    "https://pandas.pydata.org/docs/reference/api/pandas.DataFrame.to_parquet.html"
   ]
  }
 ],
 "metadata": {
  "kernelspec": {
   "display_name": "Python 3 (ipykernel)",
   "language": "python",
   "name": "python3"
  },
  "language_info": {
   "codemirror_mode": {
    "name": "ipython",
    "version": 3
   },
   "file_extension": ".py",
   "mimetype": "text/x-python",
   "name": "python",
   "nbconvert_exporter": "python",
   "pygments_lexer": "ipython3",
   "version": "3.10.6"
  },
  "toc": {
   "base_numbering": 1,
   "nav_menu": {},
   "number_sections": true,
   "sideBar": true,
   "skip_h1_title": false,
   "title_cell": "Table of Contents",
   "title_sidebar": "Contents",
   "toc_cell": false,
   "toc_position": {
    "height": "calc(100% - 180px)",
    "left": "10px",
    "top": "150px",
    "width": "341.465px"
   },
   "toc_section_display": true,
   "toc_window_display": true
  },
  "varInspector": {
   "cols": {
    "lenName": 16,
    "lenType": 16,
    "lenVar": 40
   },
   "kernels_config": {
    "python": {
     "delete_cmd_postfix": "",
     "delete_cmd_prefix": "del ",
     "library": "var_list.py",
     "varRefreshCmd": "print(var_dic_list())"
    },
    "r": {
     "delete_cmd_postfix": ") ",
     "delete_cmd_prefix": "rm(",
     "library": "var_list.r",
     "varRefreshCmd": "cat(var_dic_list()) "
    }
   },
   "types_to_exclude": [
    "module",
    "function",
    "builtin_function_or_method",
    "instance",
    "_Feature"
   ],
   "window_display": false
  }
 },
 "nbformat": 4,
 "nbformat_minor": 5
}
